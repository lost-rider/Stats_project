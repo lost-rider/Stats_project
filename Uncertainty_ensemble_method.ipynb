{
  "nbformat": 4,
  "nbformat_minor": 0,
  "metadata": {
    "colab": {
      "provenance": [],
      "gpuType": "T4"
    },
    "kernelspec": {
      "name": "python3",
      "display_name": "Python 3"
    },
    "language_info": {
      "name": "python"
    },
    "accelerator": "GPU"
  },
  "cells": [
    {
      "cell_type": "markdown",
      "source": [
        "# Importing the dependancies (mentioned in the requirements.txt file)"
      ],
      "metadata": {
        "id": "eCvoJfss_Vv9"
      }
    },
    {
      "cell_type": "code",
      "execution_count": null,
      "metadata": {
        "id": "WmSkjsNX_K_E"
      },
      "outputs": [],
      "source": [
        "import torch\n",
        "from torch import Tensor\n",
        "import torch.nn as nn\n",
        "import torch.nn.functional as F\n",
        "import numpy as np\n",
        "from torchvision.datasets import MNIST\n",
        "from torchvision import transforms\n",
        "from torch.utils.data import TensorDataset, DataLoader, random_split\n",
        "import matplotlib.pyplot as mp\n",
        "import torchvision.utils as vision_utils\n",
        "import torchvision\n",
        "from matplotlib.ticker import NullFormatter\n",
        "import copy\n",
        "from typing import Any, Callable, List, Optional, Type, Union\n",
        "\n",
        "#Checking CUDA availability and setting the device\n",
        "DEVICE = torch.device('cuda' if torch.cuda.is_available() else 'cpu')"
      ]
    },
    {
      "cell_type": "code",
      "source": [
        "DEVICE"
      ],
      "metadata": {
        "colab": {
          "base_uri": "https://localhost:8080/"
        },
        "id": "ZSlq6c14_T_4",
        "outputId": "4a90cd54-0892-4883-edd2-7dda6cdb0477"
      },
      "execution_count": null,
      "outputs": [
        {
          "output_type": "execute_result",
          "data": {
            "text/plain": [
              "device(type='cpu')"
            ]
          },
          "metadata": {},
          "execution_count": 2
        }
      ]
    },
    {
      "cell_type": "markdown",
      "source": [
        "# Label-Mapping function"
      ],
      "metadata": {
        "id": "xBHIKyXJ_p0s"
      }
    },
    {
      "cell_type": "code",
      "source": [
        "def filter_labels(data, target_labels, target_device=None):\n",
        "    # Create a mapping of target labels to indices\n",
        "    label_mapping = {label: idx for idx, label in enumerate(target_labels)}\n",
        "    filtered_features, filtered_labels = [], []\n",
        "\n",
        "    # Iterate through the dataset and keep only specified labels\n",
        "    for feature, label in data:\n",
        "        if label in label_mapping:\n",
        "            filtered_features.append(feature)\n",
        "            filtered_labels.append(label_mapping[label])\n",
        "\n",
        "    # Stack features into a single tensor\n",
        "    features_tensor = torch.stack(filtered_features)\n",
        "    labels_tensor = torch.tensor(filtered_labels).long()\n",
        "\n",
        "    # Move tensors to the specified device, if provided\n",
        "    if target_device is not None:\n",
        "        features_tensor = features_tensor.to(target_device)\n",
        "        labels_tensor = labels_tensor.to(target_device)\n",
        "\n",
        "    # Return the filtered dataset as a TensorDataset\n",
        "    return torch.utils.data.TensorDataset(features_tensor, labels_tensor.view(-1, 1).float())\n"
      ],
      "metadata": {
        "id": "FNwpwQmH_dd3"
      },
      "execution_count": null,
      "outputs": []
    },
    {
      "cell_type": "markdown",
      "source": [
        "# Loading the MNIST data"
      ],
      "metadata": {
        "id": "gmqMsNBo_uV0"
      }
    },
    {
      "cell_type": "code",
      "source": [
        "# Load the MNIST dataset for training and filter for binary labels (0 and 1)\n",
        "train_data = MNIST('./data/mnist/', train=True, download=True, transform=transforms.ToTensor())\n",
        "train_data = filter_labels(train_data, target_labels=[0, 1], target_device=DEVICE)\n",
        "\n",
        "# Split the dataset into training and validation subsets\n",
        "train_dataset, valid_dataset = torch.utils.data.random_split(train_data, [10000, 2665])\n",
        "\n",
        "# Load the MNIST dataset for testing and filter for binary labels (0 and 1)\n",
        "test_data = MNIST('./data/mnist/', train=False, download=True, transform=transforms.ToTensor())\n",
        "test_data = filter_labels(test_data, target_labels=[0, 1], target_device=DEVICE)\n",
        "\n",
        "# Create data loaders for training, validation, and testing\n",
        "train_loader = DataLoader(train_dataset, batch_size=128, shuffle=True)\n",
        "valid_loader = DataLoader(valid_dataset, batch_size=512, shuffle=False)\n",
        "test_loader = DataLoader(test_data, batch_size=512, shuffle=False)"
      ],
      "metadata": {
        "colab": {
          "base_uri": "https://localhost:8080/"
        },
        "id": "NgG6qtm__wZL",
        "outputId": "4db8b7f1-5bc1-49a4-8db8-5c51a2c7cb94"
      },
      "execution_count": null,
      "outputs": [
        {
          "output_type": "stream",
          "name": "stdout",
          "text": [
            "Downloading http://yann.lecun.com/exdb/mnist/train-images-idx3-ubyte.gz\n",
            "Failed to download (trying next):\n",
            "HTTP Error 403: Forbidden\n",
            "\n",
            "Downloading https://ossci-datasets.s3.amazonaws.com/mnist/train-images-idx3-ubyte.gz\n",
            "Downloading https://ossci-datasets.s3.amazonaws.com/mnist/train-images-idx3-ubyte.gz to ./data/mnist/MNIST/raw/train-images-idx3-ubyte.gz\n"
          ]
        },
        {
          "output_type": "stream",
          "name": "stderr",
          "text": [
            "100%|██████████| 9.91M/9.91M [00:00<00:00, 41.1MB/s]\n"
          ]
        },
        {
          "output_type": "stream",
          "name": "stdout",
          "text": [
            "Extracting ./data/mnist/MNIST/raw/train-images-idx3-ubyte.gz to ./data/mnist/MNIST/raw\n",
            "\n",
            "Downloading http://yann.lecun.com/exdb/mnist/train-labels-idx1-ubyte.gz\n",
            "Failed to download (trying next):\n",
            "HTTP Error 403: Forbidden\n",
            "\n",
            "Downloading https://ossci-datasets.s3.amazonaws.com/mnist/train-labels-idx1-ubyte.gz\n",
            "Downloading https://ossci-datasets.s3.amazonaws.com/mnist/train-labels-idx1-ubyte.gz to ./data/mnist/MNIST/raw/train-labels-idx1-ubyte.gz\n"
          ]
        },
        {
          "output_type": "stream",
          "name": "stderr",
          "text": [
            "100%|██████████| 28.9k/28.9k [00:00<00:00, 1.23MB/s]\n"
          ]
        },
        {
          "output_type": "stream",
          "name": "stdout",
          "text": [
            "Extracting ./data/mnist/MNIST/raw/train-labels-idx1-ubyte.gz to ./data/mnist/MNIST/raw\n",
            "\n",
            "Downloading http://yann.lecun.com/exdb/mnist/t10k-images-idx3-ubyte.gz\n",
            "Failed to download (trying next):\n",
            "HTTP Error 403: Forbidden\n",
            "\n",
            "Downloading https://ossci-datasets.s3.amazonaws.com/mnist/t10k-images-idx3-ubyte.gz\n",
            "Downloading https://ossci-datasets.s3.amazonaws.com/mnist/t10k-images-idx3-ubyte.gz to ./data/mnist/MNIST/raw/t10k-images-idx3-ubyte.gz\n"
          ]
        },
        {
          "output_type": "stream",
          "name": "stderr",
          "text": [
            "100%|██████████| 1.65M/1.65M [00:00<00:00, 10.8MB/s]\n"
          ]
        },
        {
          "output_type": "stream",
          "name": "stdout",
          "text": [
            "Extracting ./data/mnist/MNIST/raw/t10k-images-idx3-ubyte.gz to ./data/mnist/MNIST/raw\n",
            "\n",
            "Downloading http://yann.lecun.com/exdb/mnist/t10k-labels-idx1-ubyte.gz\n",
            "Failed to download (trying next):\n",
            "HTTP Error 403: Forbidden\n",
            "\n",
            "Downloading https://ossci-datasets.s3.amazonaws.com/mnist/t10k-labels-idx1-ubyte.gz\n",
            "Downloading https://ossci-datasets.s3.amazonaws.com/mnist/t10k-labels-idx1-ubyte.gz to ./data/mnist/MNIST/raw/t10k-labels-idx1-ubyte.gz\n"
          ]
        },
        {
          "output_type": "stream",
          "name": "stderr",
          "text": [
            "100%|██████████| 4.54k/4.54k [00:00<00:00, 2.59MB/s]\n"
          ]
        },
        {
          "output_type": "stream",
          "name": "stdout",
          "text": [
            "Extracting ./data/mnist/MNIST/raw/t10k-labels-idx1-ubyte.gz to ./data/mnist/MNIST/raw\n",
            "\n"
          ]
        }
      ]
    },
    {
      "cell_type": "code",
      "source": [
        "print(f\"Training dataset length: {len(train_loader.dataset)}\")\n",
        "print(f\"Valididation dataset length: {len(valid_loader.dataset)}\")\n",
        "print(f\"Test dataset length: {len(test_loader.dataset)}\")"
      ],
      "metadata": {
        "colab": {
          "base_uri": "https://localhost:8080/"
        },
        "id": "W9mseYn5_1Uh",
        "outputId": "868b0dce-a50d-4607-e1fc-325ed3219f3c"
      },
      "execution_count": null,
      "outputs": [
        {
          "output_type": "stream",
          "name": "stdout",
          "text": [
            "Training dataset length: 10000\n",
            "Valididation dataset length: 2665\n",
            "Test dataset length: 2115\n"
          ]
        }
      ]
    },
    {
      "cell_type": "markdown",
      "source": [
        "# Build interpolated dataset"
      ],
      "metadata": {
        "id": "VCxVLDDsAEjo"
      }
    },
    {
      "cell_type": "code",
      "source": [
        "def display_samples(images, count):\n",
        "    # Setup figure for plotting\n",
        "    mp.figure(figsize=(10, 10), dpi=130)\n",
        "    # Arrange images in a grid\n",
        "    image_grid = vision_utils.make_grid(images[:count].cpu(), nrow=int(count/2), normalize=True, padding=1)\n",
        "    # Display the grid of images\n",
        "    mp.imshow(image_grid.permute(1, 2, 0), interpolation='nearest')\n",
        "    # Remove ticks and axis labels\n",
        "    mp.tick_params(axis='both', which='both', length=0)\n",
        "    axis = mp.gca()\n",
        "    axis.xaxis.set_major_formatter(NullFormatter())\n",
        "    axis.yaxis.set_major_formatter(NullFormatter())\n",
        "    # Show the figure\n",
        "    mp.show()\n",
        "\n",
        "def generate_interpolated_data(data_loader, max_image_pairs=500, interpolation_steps=150, target_device=torch.device('cpu')):\n",
        "    # Extract tensors from the dataset\n",
        "    test_images, test_labels = data_loader.dataset.tensors\n",
        "\n",
        "    # Separate images by labels\n",
        "    images_class_0 = test_images[test_labels.view(-1) == 0]\n",
        "    images_class_1 = test_images[test_labels.view(-1) == 1]\n",
        "\n",
        "    # Generate interpolation weights\n",
        "    interpolation_weights = torch.tensor(np.linspace(0, 1, interpolation_steps)) * 3 - 1\n",
        "\n",
        "    interpolated_images, weight_list = [], []\n",
        "\n",
        "    # Create interpolations without computing gradients\n",
        "    with torch.no_grad():\n",
        "        for img_0, img_1 in zip(images_class_0[:max_image_pairs], images_class_1[:max_image_pairs]):\n",
        "            for weight in interpolation_weights:\n",
        "                blended_image = weight * img_1 + (1 - weight) * img_0\n",
        "                interpolated_images.append(blended_image.cpu())\n",
        "                weight_list.append(weight.item())\n",
        "\n",
        "    # Stack the interpolated images and move to the target device\n",
        "    interpolated_images_tensor = torch.stack(interpolated_images).to(target_device)\n",
        "\n",
        "    return interpolated_images_tensor, weight_list\n"
      ],
      "metadata": {
        "id": "vuffMJZY_1dc"
      },
      "execution_count": null,
      "outputs": []
    },
    {
      "cell_type": "code",
      "source": [
        "img_cnt=30\n",
        "X_test, weights_test = generate_interpolated_data(test_loader, max_image_pairs=1, interpolation_steps=img_cnt)\n",
        "display_samples(X_test,img_cnt)"
      ],
      "metadata": {
        "colab": {
          "base_uri": "https://localhost:8080/",
          "height": 179
        },
        "id": "31USiGsHAKJZ",
        "outputId": "c45342b8-3d4c-4d3a-e149-5059b97190fc"
      },
      "execution_count": null,
      "outputs": [
        {
          "output_type": "display_data",
          "data": {
            "text/plain": [
              "<Figure size 1300x1300 with 1 Axes>"
            ],
            "image/png": "[encoded data removed]"
          },
          "metadata": {}
        }
      ]
    },
    {
      "cell_type": "markdown",
      "source": [
        "# Model"
      ],
      "metadata": {
        "id": "JrMO6t2BAIRO"
      }
    },
    {
      "cell_type": "code",
      "source": [
        "class LeNet(nn.Module):\n",
        "  def __init__(self, num_classes=10) -> None:\n",
        "    super().__init__()\n",
        "    self.conv1 = nn.Conv2d(1, 6, kernel_size=5, padding=2)\n",
        "    self.conv2 = nn.Conv2d(6, 16, kernel_size=5)\n",
        "    self.fc1 = nn.Linear(400, 120)\n",
        "    self.fc2 = nn.Linear(120, 84)\n",
        "    self.fc3 = nn.Linear(84, num_classes)\n",
        "    self.maxPool = nn.MaxPool2d(2,2)\n",
        "\n",
        "  def forward(self, x: torch.Tensor) -> torch.Tensor:\n",
        "    x = self.maxPool(F.relu(self.conv1(x)))\n",
        "    x = self.maxPool(F.relu(self.conv2(x)))\n",
        "    x = torch.flatten(x, start_dim=1)\n",
        "    x = F.relu(self.fc1(x))\n",
        "    x = F.relu(self.fc2(x))\n",
        "    x = self.fc3(x)\n",
        "    return x"
      ],
      "metadata": {
        "id": "rbdDCTRxAHYv"
      },
      "execution_count": null,
      "outputs": []
    },
    {
      "cell_type": "markdown",
      "source": [
        "# Training utils :-"
      ],
      "metadata": {
        "id": "mDmD9SQ_ATmo"
      }
    },
    {
      "cell_type": "markdown",
      "source": [
        "# 1. Function for Computing accuracy across the batches"
      ],
      "metadata": {
        "id": "dp7feVeWAUkQ"
      }
    },
    {
      "cell_type": "code",
      "source": [
        "@torch.no_grad()\n",
        "def compute_accuracy(model, data_loader):\n",
        "    # Set the model to evaluation mode to ensure layers like dropout and batch normalization behave correctly\n",
        "    model.eval()\n",
        "\n",
        "    correct_predictions = 0  # Count the number of correct predictions\n",
        "    total_predictions = 0  # Keep track of the total number of predictions\n",
        "\n",
        "    # Loop through the DataLoader to get batches of data\n",
        "    for inputs, labels in data_loader:\n",
        "        # Get the model's predictions by passing the inputs through the model\n",
        "        raw_outputs = model(inputs)\n",
        "\n",
        "        # Apply the sigmoid function to the raw outputs to get probabilities for class 1\n",
        "        probabilities = torch.sigmoid(raw_outputs)\n",
        "\n",
        "        # Compare the predicted probabilities to the 0.5 threshold and round them to 0 or 1\n",
        "        predicted_classes = (probabilities > 0.5).float()\n",
        "\n",
        "        # Check how many predictions were correct\n",
        "        correct_predictions_batch = (predicted_classes == labels).sum()\n",
        "\n",
        "        # Update the total count of correct predictions and total predictions\n",
        "        correct_predictions += correct_predictions_batch.item()\n",
        "        total_predictions += labels.size(0)\n",
        "\n",
        "    # Calculate the accuracy as the ratio of correct predictions to total predictions\n",
        "    accuracy = correct_predictions / total_predictions\n",
        "\n",
        "    # Return the computed accuracy\n",
        "    model.train()  # Set the model back to training mode\n",
        "    return accuracy"
      ],
      "metadata": {
        "id": "UOHvfYuZAQIH"
      },
      "execution_count": null,
      "outputs": []
    },
    {
      "cell_type": "markdown",
      "source": [
        "# 2. Function to obtain random samples from the data loader"
      ],
      "metadata": {
        "id": "IW8wmFXYAdxP"
      }
    },
    {
      "cell_type": "code",
      "source": [
        "def data_loader_to_cyclic_sampler(data_loader):\n",
        "    data_iter = iter(data_loader)  # Create an iterator for the DataLoader\n",
        "\n",
        "    def cyclic_sample():\n",
        "        nonlocal data_iter\n",
        "        try:\n",
        "            # Attempt to fetch the next batch\n",
        "            return next(data_iter)\n",
        "        except StopIteration:\n",
        "            # Restart the iterator when it is exhausted\n",
        "            data_iter = iter(data_loader)\n",
        "            return next(data_iter)\n",
        "\n",
        "    return cyclic_sample"
      ],
      "metadata": {
        "id": "_iuW-RPWAaFS"
      },
      "execution_count": null,
      "outputs": []
    },
    {
      "cell_type": "markdown",
      "source": [
        "# 3.Function to calculate probabilities"
      ],
      "metadata": {
        "id": "Pm0Wqt79Agb4"
      }
    },
    {
      "cell_type": "code",
      "source": [
        "def compute_probabilities(model_stats):\n",
        "    with torch.no_grad():  # Disable gradient computation for inference\n",
        "        model_outputs = []  # Store outputs from all models\n",
        "\n",
        "        for model in model_stats['all_models']:\n",
        "            # Compute probabilities for the positive class\n",
        "            # Move X_test to the same device as the model\n",
        "            model_outputs.append(torch.sigmoid(model(X_test.to(model.conv1.weight.device))))\n",
        "\n",
        "        # Average probabilities across all models\n",
        "        avg_probabilities = sum(model_outputs) / len(model_outputs)\n",
        "\n",
        "        # Concatenate probabilities for both classes\n",
        "        final_probabilities = torch.cat((avg_probabilities, 1 - avg_probabilities), dim=1)\n",
        "\n",
        "    return final_probabilities"
      ],
      "metadata": {
        "id": "VzWrvMn5AgmA"
      },
      "execution_count": null,
      "outputs": []
    },
    {
      "cell_type": "markdown",
      "source": [
        "# 4. Entropy_plotting func"
      ],
      "metadata": {
        "id": "vodzdAkzAg2T"
      }
    },
    {
      "cell_type": "code",
      "source": [
        "def visualize_entropy(uncertainty, time_steps):\n",
        "    # Extract sorted unique time steps\n",
        "    unique_times = sorted(set(time_steps))\n",
        "\n",
        "    # Map each unique time step to an index\n",
        "    time_to_index = {time: i for i, time in enumerate(unique_times)}\n",
        "\n",
        "    # Initialize storage for entropy grouped by time step\n",
        "    grouped_entropy = [[] for _ in range(len(unique_times))]\n",
        "\n",
        "    # Group entropy values based on corresponding time steps\n",
        "    for step, value in zip(time_steps, uncertainty):\n",
        "        index = time_to_index[step]\n",
        "        grouped_entropy[index].append(value)\n",
        "\n",
        "    # Compute average entropy for each time step\n",
        "    mean_entropy = [np.mean(values) for values in grouped_entropy]\n",
        "\n",
        "    # Plotting the results\n",
        "    fig, ax = mp.subplots(figsize=(4, 3), dpi=110)\n",
        "    ax.grid()\n",
        "    ax.set_xlabel(\"$t$\")\n",
        "    ax.set_ylabel(\"Uncertainty (Entropy)\")\n",
        "    ax.plot(unique_times, mean_entropy)\n"
      ],
      "metadata": {
        "id": "jagVMwbgAhDB"
      },
      "execution_count": null,
      "outputs": []
    },
    {
      "cell_type": "markdown",
      "source": [
        "# 5.Ensemble accuracy for all the models"
      ],
      "metadata": {
        "id": "ps2RIdOcAhTt"
      }
    },
    {
      "cell_type": "code",
      "source": [
        "@torch.no_grad()\n",
        "def compute_ensemble_accuracy(models, data_loader):\n",
        "    # Set all models to evaluation mode\n",
        "    for model in models:\n",
        "        model.eval()\n",
        "\n",
        "    correct_predictions = []\n",
        "\n",
        "    # Iterate over batches in the data loader\n",
        "    for inputs, labels in data_loader:\n",
        "        # Get predictions from all models\n",
        "        predictions = [torch.sigmoid(model(inputs)) for model in models]\n",
        "\n",
        "        # Stack the predictions and take the average\n",
        "        averaged_predictions = torch.stack(predictions, dim=0).mean(dim=0)\n",
        "\n",
        "        # Compare the averaged predictions with the true labels\n",
        "        correct_predictions.append((averaged_predictions > 0.5) == labels)\n",
        "\n",
        "    # Concatenate the results and compute final accuracy\n",
        "    correct_predictions = torch.cat(correct_predictions)\n",
        "    accuracy = torch.sum(correct_predictions) / len(correct_predictions)\n",
        "\n",
        "    return accuracy.item()\n"
      ],
      "metadata": {
        "id": "jAcNv2aGAhiD"
      },
      "execution_count": null,
      "outputs": []
    },
    {
      "cell_type": "markdown",
      "source": [
        "# 6.Ensemble learning"
      ],
      "metadata": {
        "id": "JoJ7cFdpAzkk"
      }
    },
    {
      "cell_type": "code",
      "source": [
        "def sequential_training(num_models, train_data_loader, validation_loader, test_loader, perturbation_loader,\n",
        "                        penalty_factor=0.01, max_epochs=25, apply_diversity_regulation=True, learning_rate=0.0001,\n",
        "                        weight_decay_rate=0.000002):\n",
        "\n",
        "    # Initialize models\n",
        "    model_list = [LeNet(num_classes=1).to(DEVICE) for _ in range(num_models)]\n",
        "\n",
        "    training_statistics = {f\"model_{i+1}\": {\"accuracy\": [], \"training_loss\": [], \"diversity_loss\": []} for i in range(len(model_list))}\n",
        "    lrr=learning_rate/2;\n",
        "    for model_idx, model in enumerate(model_list):\n",
        "        #doubling lr..just for fun\n",
        "        lrr*=2\n",
        "        # Initialize optimizer for the current model\n",
        "        optimizer = torch.optim.AdamW(model.parameters(), lr=lrr, weight_decay=weight_decay_rate)\n",
        "\n",
        "        perturbation_sampler = data_loader_to_cyclic_sampler(perturbation_loader)\n",
        "\n",
        "        for epoch in range(max_epochs):\n",
        "            for iteration, (inputs, labels) in enumerate(train_data_loader):\n",
        "\n",
        "                # Get a perturbed version of the data\n",
        "                perturbed_inputs, _ = perturbation_sampler()\n",
        "\n",
        "                # Calculate the binary cross-entropy loss\n",
        "                model_output = model(inputs)\n",
        "                training_loss = F.binary_cross_entropy_with_logits(model_output, labels)\n",
        "\n",
        "                # Diversity regularization (only for models after the first)\n",
        "                if apply_diversity_regulation and model_idx != 0:\n",
        "                    diversity_loss = []\n",
        "                    with torch.no_grad():\n",
        "                        predictions_from_previous_models = [torch.sigmoid(m(perturbed_inputs)) for m in model_list[:model_idx]]\n",
        "                    current_model_prediction = torch.sigmoid(model(perturbed_inputs))\n",
        "                    for prediction in predictions_from_previous_models:\n",
        "                        divergence_loss = - ((1. - prediction) * current_model_prediction + prediction * (1. - current_model_prediction) + 1e-7).log().mean()\n",
        "                        diversity_loss.append(divergence_loss)\n",
        "                else:\n",
        "                    diversity_loss = [torch.tensor([0]).to(DEVICE)]\n",
        "\n",
        "                # Calculate the total loss with the diversity penalty\n",
        "                total_diversity_loss = sum(diversity_loss) / len(diversity_loss)\n",
        "                total_loss = training_loss + penalty_factor * total_diversity_loss\n",
        "\n",
        "                # Backpropagate and optimize\n",
        "                optimizer.zero_grad()\n",
        "                total_loss.backward()\n",
        "                optimizer.step()\n",
        "\n",
        "                # Logging and tracking\n",
        "                if (iteration + epoch * len(train_data_loader)) % 100 == 0:\n",
        "                    total_iterations = iteration + epoch * len(train_data_loader)\n",
        "                    log_message = f\"[model_{model_idx+1}] {epoch}/{total_iterations} [train] loss: {training_loss.item():.2f} diversity_loss: {total_diversity_loss.item():.2f} \"\n",
        "                    training_statistics[f\"model_{model_idx+1}\"][\"training_loss\"].append((total_iterations, training_loss.item()))\n",
        "                    training_statistics[f\"model_{model_idx+1}\"][\"diversity_loss\"].append((total_iterations, total_diversity_loss.item()))\n",
        "                    accuracy = compute_accuracy(model, validation_loader)\n",
        "                    training_statistics[f\"model_{model_idx+1}\"][\"accuracy\"].append((total_iterations, accuracy))\n",
        "                    log_message += f\" accuracy: {accuracy:.2f}\"\n",
        "                    print(log_message)\n",
        "\n",
        "                iteration += 1\n",
        "\n",
        "    training_statistics['all_models'] = model_list\n",
        "\n",
        "    return training_statistics\n"
      ],
      "metadata": {
        "id": "j54uMq1mAf1k"
      },
      "execution_count": null,
      "outputs": []
    },
    {
      "cell_type": "markdown",
      "source": [
        "# Building Perturbation Dataset"
      ],
      "metadata": {
        "id": "KCBACkZ5A-Gt"
      }
    },
    {
      "cell_type": "code",
      "source": [
        "# Load the MNIST dataset and keep only specific labels\n",
        "mnist_data = MNIST('./data/mnist/', train=True, download=True, transform=transforms.ToTensor())\n",
        "mnist_data = filter_labels(mnist_data, target_labels=[2, 3, 4, 5, 6, 7, 8, 9], target_device=DEVICE)#All except 0 and 1\n",
        "\n",
        "# Extract features (X) and labels (Y) from the dataset\n",
        "features, labels = mnist_data.tensors\n",
        "\n",
        "# Apply padding and random crop to the images for perturbation\n",
        "crop_transform = torchvision.transforms.RandomCrop(30)\n",
        "features = torchvision.transforms.functional.pad(features, padding=(12, 12), fill=0)\n",
        "perturbed_features = torch.cat([crop_transform(image.view(1, 1, 52, 52)) for image in features])\n",
        "\n",
        "# Create a new dataset with the perturbed images\n",
        "perturbed_dataset = TensorDataset(perturbed_features, labels)\n",
        "\n",
        "# Create a DataLoader for the perturbed dataset\n",
        "perturbed_loader = DataLoader(perturbed_dataset, batch_size=256, shuffle=True)\n",
        "\n",
        "# Print the length of the perturbations dataset\n",
        "print(f\"Perturbations length: {len(perturbed_loader.dataset)}\")\n"
      ],
      "metadata": {
        "colab": {
          "base_uri": "https://localhost:8080/"
        },
        "id": "RBvgxejJA2ur",
        "outputId": "90ada90b-b303-4657-ef94-a8688617d82f"
      },
      "execution_count": null,
      "outputs": [
        {
          "output_type": "stream",
          "name": "stdout",
          "text": [
            "Perturbations length: 47335\n"
          ]
        }
      ]
    },
    {
      "cell_type": "code",
      "source": [
        "#Visualize a few sample images from the perturbed dataset\n",
        "display_samples(perturbed_features,count=15)"
      ],
      "metadata": {
        "colab": {
          "base_uri": "https://localhost:8080/",
          "height": 477
        },
        "id": "mAW5-8uSA7pv",
        "outputId": "14a3b5e0-8f79-40a8-b11f-8d75c98c1894"
      },
      "execution_count": null,
      "outputs": [
        {
          "output_type": "display_data",
          "data": {
            "text/plain": [
              "<Figure size 1300x1300 with 1 Axes>"
            ],
            "image/png": "[encoded data removed]"
          },
          "metadata": {}
        }
      ]
    },
    {
      "cell_type": "markdown",
      "source": [
        "# Deep-ensemble training"
      ],
      "metadata": {
        "id": "ed1X8_yRBNtQ"
      }
    },
    {
      "cell_type": "code",
      "source": [
        "ensemble_entropy = []\n",
        "ensemble_accuracies = []\n",
        "\n",
        "# Run the ensemble training process 5 times\n",
        "for _ in range(2):\n",
        "    # Train the models sequentially\n",
        "    training_stats = sequential_training(3, train_loader, valid_loader, test_loader, perturbed_loader, penalty_factor=0.001, max_epochs=5, learning_rate=0.0001)\n",
        "\n",
        "    # Compute the accuracy of the ensemble on the test dataset\n",
        "    ensemble_accuracy = compute_ensemble_accuracy(training_stats['all_models'], test_loader)\n",
        "    ensemble_accuracies.append(ensemble_accuracy)\n",
        "    print(f\"Ensemble Accuracy: {ensemble_accuracies[-1]:.4f}\")\n",
        "\n",
        "    # Get predicted probabilities from the trained ensemble\n",
        "    probas = compute_probabilities(training_stats)\n",
        "\n",
        "    with torch.no_grad():\n",
        "        # Compute entropy for the predicted probabilities\n",
        "        entropy_values = (-(probas * (probas + 1e-8).log())).sum(dim=1).cpu()\n",
        "        ensemble_entropy.append(entropy_values)\n",
        "\n",
        "# After collecting entropy for all runs, compute the average entropy\n",
        "with torch.no_grad():\n",
        "    average_entropy = torch.stack(ensemble_entropy, dim=0)\n",
        "    average_entropy = average_entropy.mean(dim=0)\n"
      ],
      "metadata": {
        "colab": {
          "base_uri": "https://localhost:8080/"
        },
        "id": "YxVxeYevBKK-",
        "outputId": "e7296f27-c3b1-4633-b0a4-6dd752df7474"
      },
      "execution_count": null,
      "outputs": [
        {
          "output_type": "stream",
          "name": "stdout",
          "text": [
            "[model_1] 0/0 [train] loss: 0.69 diversity_loss: 0.00  accuracy: 0.47\n",
            "[model_1] 1/100 [train] loss: 0.37 diversity_loss: 0.00  accuracy: 0.99\n",
            "[model_1] 2/200 [train] loss: 0.03 diversity_loss: 0.00  accuracy: 0.99\n",
            "[model_1] 3/300 [train] loss: 0.01 diversity_loss: 0.00  accuracy: 1.00\n",
            "[model_2] 0/0 [train] loss: 0.70 diversity_loss: 0.69  accuracy: 0.53\n",
            "[model_2] 1/100 [train] loss: 0.05 diversity_loss: 1.53  accuracy: 0.99\n",
            "[model_2] 2/200 [train] loss: 0.00 diversity_loss: 1.97  accuracy: 1.00\n",
            "[model_2] 3/300 [train] loss: 0.00 diversity_loss: 1.60  accuracy: 1.00\n",
            "[model_3] 0/0 [train] loss: 0.69 diversity_loss: 0.69  accuracy: 0.53\n",
            "[model_3] 1/100 [train] loss: 0.01 diversity_loss: 1.39  accuracy: 1.00\n",
            "[model_3] 2/200 [train] loss: 0.00 diversity_loss: 1.35  accuracy: 1.00\n",
            "[model_3] 3/300 [train] loss: 0.00 diversity_loss: 1.60  accuracy: 1.00\n",
            "Ensemble Accuracy: 0.9986\n",
            "[model_1] 0/0 [train] loss: 0.69 diversity_loss: 0.00  accuracy: 0.47\n",
            "[model_1] 1/100 [train] loss: 0.26 diversity_loss: 0.00  accuracy: 0.98\n",
            "[model_1] 2/200 [train] loss: 0.05 diversity_loss: 0.00  accuracy: 0.99\n",
            "[model_1] 3/300 [train] loss: 0.01 diversity_loss: 0.00  accuracy: 0.99\n",
            "[model_2] 0/0 [train] loss: 0.70 diversity_loss: 0.68  accuracy: 0.53\n",
            "[model_2] 1/100 [train] loss: 0.02 diversity_loss: 1.91  accuracy: 0.99\n",
            "[model_2] 2/200 [train] loss: 0.01 diversity_loss: 1.86  accuracy: 1.00\n",
            "[model_2] 3/300 [train] loss: 0.01 diversity_loss: 1.43  accuracy: 1.00\n",
            "[model_3] 0/0 [train] loss: 0.69 diversity_loss: 0.69  accuracy: 0.49\n",
            "[model_3] 1/100 [train] loss: 0.00 diversity_loss: 1.61  accuracy: 0.99\n",
            "[model_3] 2/200 [train] loss: 0.00 diversity_loss: 1.54  accuracy: 1.00\n",
            "[model_3] 3/300 [train] loss: 0.00 diversity_loss: 1.34  accuracy: 1.00\n",
            "Ensemble Accuracy: 0.9991\n"
          ]
        }
      ]
    },
    {
      "cell_type": "code",
      "source": [
        "# Plot the entropy values\n",
        "visualize_entropy(average_entropy, weights_test)\n",
        "\n",
        "# Print the final ensemble accuracy statistics\n",
        "mean_accuracy = np.mean(ensemble_accuracies)\n",
        "std_accuracy = np.std(ensemble_accuracies)\n",
        "print(f\"Test Ensemble Accuracy: {mean_accuracy:.4f} +/- {std_accuracy:.4f}\")"
      ],
      "metadata": {
        "colab": {
          "base_uri": "https://localhost:8080/",
          "height": 358
        },
        "id": "60rd1PISBRQy",
        "outputId": "5767742b-d3e6-4569-fc38-24fc76fa5510"
      },
      "execution_count": null,
      "outputs": [
        {
          "output_type": "stream",
          "name": "stdout",
          "text": [
            "Test Ensemble Accuracy: 0.9988 +/- 0.0002\n"
          ]
        },
        {
          "output_type": "display_data",
          "data": {
            "text/plain": [
              "<Figure size 440x330 with 1 Axes>"
            ],
            "image/png": "[encoded data removed]"
          },
          "metadata": {}
        }
      ]
    },
    {
      "cell_type": "code",
      "source": [],
      "metadata": {
        "id": "1bCE-Qn-C37Y"
      },
      "execution_count": null,
      "outputs": []
    }
  ]
}